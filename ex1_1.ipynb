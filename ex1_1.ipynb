{
 "cells": [
  {
   "cell_type": "code",
   "execution_count": 1,
   "id": "43614be2-61fe-463b-80e2-c4edf8d7de21",
   "metadata": {},
   "outputs": [
    {
     "name": "stdout",
     "output_type": "stream",
     "text": [
      "Gideon Mpungu\n"
     ]
    }
   ],
   "source": [
    "print(\"Gideon Mpungu\")"
   ]
  },
  {
   "cell_type": "code",
   "execution_count": 2,
   "id": "e5828417-05c6-4a0c-9745-7363f4de8a2f",
   "metadata": {},
   "outputs": [
    {
     "name": "stdout",
     "output_type": "stream",
     "text": [
      "Gideon Mpungu\n"
     ]
    }
   ],
   "source": [
    "# This program prints my name\n",
    "print(\"Gideon Mpungu\")"
   ]
  },
  {
   "cell_type": "code",
   "execution_count": 3,
   "id": "276b7e53-e881-4179-a039-4221791e7532",
   "metadata": {},
   "outputs": [
    {
     "name": "stdout",
     "output_type": "stream",
     "text": [
      "Gideon Mpungu\n"
     ]
    }
   ],
   "source": [
    "my_name = \"Gideon Mpungu\"\n",
    "print(my_name)"
   ]
  },
  {
   "cell_type": "code",
   "execution_count": 4,
   "id": "0b022128-7def-4c7c-bffa-c190994e814e",
   "metadata": {},
   "outputs": [
    {
     "name": "stdout",
     "output_type": "stream",
     "text": [
      "This number is: 7\n"
     ]
    }
   ],
   "source": [
    "my_integer = 7\n",
    "print(\"This number is:\", my_integer)\n"
   ]
  },
  {
   "cell_type": "code",
   "execution_count": 5,
   "id": "38ac1b93-e8bb-434b-8235-6d92a7d28079",
   "metadata": {},
   "outputs": [
    {
     "name": "stdin",
     "output_type": "stream",
     "text": [
      "Enter your name:  Gideon Mpungu\n"
     ]
    },
    {
     "name": "stdout",
     "output_type": "stream",
     "text": [
      "Gideon Mpungu\n"
     ]
    }
   ],
   "source": [
    "user_name = input(\"Enter your name: \")\n",
    "print(user_name)\n"
   ]
  },
  {
   "cell_type": "code",
   "execution_count": 6,
   "id": "bc4efb49-2e1a-400c-b36b-50ae23fa1028",
   "metadata": {},
   "outputs": [
    {
     "name": "stdin",
     "output_type": "stream",
     "text": [
      "Enter an integer:  7\n"
     ]
    },
    {
     "name": "stdout",
     "output_type": "stream",
     "text": [
      "14\n"
     ]
    }
   ],
   "source": [
    "user_input = int(input(\"Enter an integer: \"))\n",
    "result = user_input * 2\n",
    "print(result)"
   ]
  },
  {
   "cell_type": "code",
   "execution_count": 7,
   "id": "40468f97-d33a-47b9-a320-448fd53178e5",
   "metadata": {},
   "outputs": [
    {
     "name": "stdin",
     "output_type": "stream",
     "text": [
      "Enter the first integer:  7\n",
      "Enter the second integer:  7\n"
     ]
    },
    {
     "name": "stdout",
     "output_type": "stream",
     "text": [
      "49\n"
     ]
    }
   ],
   "source": [
    "num1 = int(input(\"Enter the first integer: \"))\n",
    "num2 = int(input(\"Enter the second integer: \"))\n",
    "result = num1 * num2\n",
    "print(result)"
   ]
  },
  {
   "cell_type": "code",
   "execution_count": 8,
   "id": "cc15aaf8-acb8-4a8a-8991-ea1fc25b414e",
   "metadata": {},
   "outputs": [
    {
     "name": "stdin",
     "output_type": "stream",
     "text": [
      "Enter an integer:  17\n"
     ]
    },
    {
     "name": "stdout",
     "output_type": "stream",
     "text": [
      "The number is a multiple-digit number.\n"
     ]
    }
   ],
   "source": [
    "user_input = int(input(\"Enter an integer: \"))\n",
    "if user_input >= 10:\n",
    "    print(\"The number is a multiple-digit number.\")"
   ]
  },
  {
   "cell_type": "code",
   "execution_count": 10,
   "id": "8b4bc310-48bc-4377-85a1-d6811c726fa1",
   "metadata": {},
   "outputs": [
    {
     "name": "stdin",
     "output_type": "stream",
     "text": [
      "Enter an integer:  7\n"
     ]
    },
    {
     "name": "stdout",
     "output_type": "stream",
     "text": [
      "The number is single-digit.\n",
      "Number: 7\n"
     ]
    }
   ],
   "source": [
    "user_input = int(input(\"Enter an integer: \"))\n",
    "if user_input >= 10:\n",
    "    print(\"The number is multiple-digit.\")\n",
    "else:\n",
    "    print(\"The number is single-digit.\")\n",
    "    print(\"Number:\", user_input)"
   ]
  },
  {
   "cell_type": "code",
   "execution_count": 14,
   "id": "3a49f8e1-c61e-47ed-8f29-5e2f669901df",
   "metadata": {},
   "outputs": [
    {
     "name": "stdin",
     "output_type": "stream",
     "text": [
      "Enter an integer:  777\n"
     ]
    },
    {
     "name": "stdout",
     "output_type": "stream",
     "text": [
      "Final number: 7\n"
     ]
    }
   ],
   "source": [
    "user_input = int(input(\"Enter an integer: \"))\n",
    "while user_input >= 10:\n",
    "    user_input -= 10\n",
    "print(\"Final number:\", user_input)"
   ]
  },
  {
   "cell_type": "code",
   "execution_count": null,
   "id": "d6a7c3e9-f19b-4a79-b996-83b3e8222160",
   "metadata": {},
   "outputs": [],
   "source": []
  }
 ],
 "metadata": {
  "kernelspec": {
   "display_name": "Python 3 (ipykernel)",
   "language": "python",
   "name": "python3"
  },
  "language_info": {
   "codemirror_mode": {
    "name": "ipython",
    "version": 3
   },
   "file_extension": ".py",
   "mimetype": "text/x-python",
   "name": "python",
   "nbconvert_exporter": "python",
   "pygments_lexer": "ipython3",
   "version": "3.11.0"
  }
 },
 "nbformat": 4,
 "nbformat_minor": 5
}
