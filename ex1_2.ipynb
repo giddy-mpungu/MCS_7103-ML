{
 "cells": [
  {
   "cell_type": "code",
   "execution_count": 1,
   "id": "e0171633-f58c-4bd4-9ea8-d8fe6b907e20",
   "metadata": {},
   "outputs": [
    {
     "name": "stdout",
     "output_type": "stream",
     "text": [
      "onions\n"
     ]
    }
   ],
   "source": [
    "grocery_list = [\"tomatoes\", \"bananas\", \"onions\", \"milk\", \"eggs\"]\n",
    "print(grocery_list[2])"
   ]
  },
  {
   "cell_type": "code",
   "execution_count": 5,
   "id": "b600b1f5-dfb8-4596-801a-2c54b69b796e",
   "metadata": {},
   "outputs": [
    {
     "name": "stdout",
     "output_type": "stream",
     "text": [
      "o\n"
     ]
    }
   ],
   "source": [
    "full_name = \"Gideon Mpungu\"\n",
    "print(full_name[4])"
   ]
  },
  {
   "cell_type": "code",
   "execution_count": 6,
   "id": "79cabd99-def0-442b-9ad9-49beca247bb8",
   "metadata": {},
   "outputs": [
    {
     "name": "stdout",
     "output_type": "stream",
     "text": [
      "tomatoes\n",
      "bananas\n",
      "onions\n",
      "milk\n",
      "eggs\n"
     ]
    }
   ],
   "source": [
    "grocery_list = [\"tomatoes\", \"bananas\", \"onions\", \"milk\", \"eggs\"]\n",
    "for item in grocery_list:\n",
    "    print(item)"
   ]
  },
  {
   "cell_type": "code",
   "execution_count": 7,
   "id": "e1c4c87a-ee74-4743-ab14-292461362d41",
   "metadata": {},
   "outputs": [
    {
     "name": "stdout",
     "output_type": "stream",
     "text": [
      "0\n",
      "1\n",
      "4\n",
      "9\n",
      "16\n",
      "25\n",
      "36\n",
      "49\n",
      "64\n",
      "81\n",
      "100\n"
     ]
    }
   ],
   "source": [
    "for num in range(11):\n",
    "    squared = num ** 2\n",
    "    print(squared)"
   ]
  },
  {
   "cell_type": "code",
   "execution_count": 9,
   "id": "f970089a-1798-4299-aaa2-2cd7610afc6e",
   "metadata": {},
   "outputs": [
    {
     "name": "stdout",
     "output_type": "stream",
     "text": [
      "17:25:00\n"
     ]
    }
   ],
   "source": [
    "import datetime as dt\n",
    "\n",
    "time_now = dt.time(17, 25)\n",
    "print(time_now)"
   ]
  },
  {
   "cell_type": "code",
   "execution_count": 14,
   "id": "7347e275-1d73-4e41-86bf-749a5b8b7505",
   "metadata": {},
   "outputs": [
    {
     "name": "stdout",
     "output_type": "stream",
     "text": [
      "[[1 0]\n",
      " [0 1]]\n"
     ]
    }
   ],
   "source": [
    "import numpy as np\n",
    "\n",
    "matrix = np.array([[1, 0], [0, 1]])\n",
    "print(matrix)"
   ]
  },
  {
   "cell_type": "code",
   "execution_count": 19,
   "id": "00ac3e55-989d-4d6a-b421-a593708243b8",
   "metadata": {},
   "outputs": [
    {
     "name": "stdout",
     "output_type": "stream",
     "text": [
      "[[[1. 1.]\n",
      "  [1. 1.]\n",
      "  [1. 1.]]\n",
      "\n",
      " [[1. 1.]\n",
      "  [1. 1.]\n",
      "  [1. 1.]]]\n"
     ]
    }
   ],
   "source": [
    "ones_array = np.ones((2, 3, 2))\n",
    "print(ones_array)"
   ]
  },
  {
   "cell_type": "code",
   "execution_count": 16,
   "id": "3098efe1-188c-4ea0-b651-2e27912f56cb",
   "metadata": {},
   "outputs": [
    {
     "name": "stdout",
     "output_type": "stream",
     "text": [
      "6\n"
     ]
    }
   ],
   "source": [
    "matrix = np.array([[1, 2, 3], [4, 5, 6], [7, 8, 9]])\n",
    "element = matrix[1, 2] \n",
    "print(element)"
   ]
  },
  {
   "cell_type": "code",
   "execution_count": 17,
   "id": "1b68895b-8041-406e-87f6-9ceb5a9cccdc",
   "metadata": {},
   "outputs": [
    {
     "name": "stdout",
     "output_type": "stream",
     "text": [
      "Shape: (3, 3)\n",
      "1\n",
      "2\n",
      "3\n",
      "4\n",
      "5\n",
      "6\n",
      "7\n",
      "8\n",
      "9\n"
     ]
    }
   ],
   "source": [
    "matrix = np.array([[1, 2, 3], [4, 5, 6], [7, 8, 9]])\n",
    "print(\"Shape:\", matrix.shape)\n",
    "for row in matrix:\n",
    "    for element in row:\n",
    "        print(element)"
   ]
  },
  {
   "cell_type": "code",
   "execution_count": 18,
   "id": "626ce35a-8129-4259-ba66-72e40a3d8b92",
   "metadata": {},
   "outputs": [
    {
     "name": "stdout",
     "output_type": "stream",
     "text": [
      "Maximum value: 81\n"
     ]
    }
   ],
   "source": [
    "squared_matrix = np.square(matrix)\n",
    "max_value = squared_matrix.max()\n",
    "print(\"Maximum value:\", max_value)"
   ]
  },
  {
   "cell_type": "code",
   "execution_count": null,
   "id": "275c3b84-a42f-4b61-a78e-23c55f3eab74",
   "metadata": {},
   "outputs": [],
   "source": []
  }
 ],
 "metadata": {
  "kernelspec": {
   "display_name": "Python 3 (ipykernel)",
   "language": "python",
   "name": "python3"
  },
  "language_info": {
   "codemirror_mode": {
    "name": "ipython",
    "version": 3
   },
   "file_extension": ".py",
   "mimetype": "text/x-python",
   "name": "python",
   "nbconvert_exporter": "python",
   "pygments_lexer": "ipython3",
   "version": "3.11.0"
  }
 },
 "nbformat": 4,
 "nbformat_minor": 5
}
