{
 "cells": [
  {
   "cell_type": "code",
   "execution_count": 4,
   "id": "3c902ed9-a692-4208-b0d2-8677ced5c7f2",
   "metadata": {},
   "outputs": [
    {
     "data": {
      "text/plain": [
       "3"
      ]
     },
     "execution_count": 4,
     "metadata": {},
     "output_type": "execute_result"
    }
   ],
   "source": [
    ">>> a_list = [3, 5, 6, 12]\n",
    ">>> a_list[0]"
   ]
  },
  {
   "cell_type": "code",
   "execution_count": 5,
   "id": "4291afe3-3867-42c0-aaa9-7a770d9d379c",
   "metadata": {},
   "outputs": [
    {
     "data": {
      "text/plain": [
       "12"
      ]
     },
     "execution_count": 5,
     "metadata": {},
     "output_type": "execute_result"
    }
   ],
   "source": [
    ">>> a_list = [3, 5, 6, 12]\n",
    ">>> a_list[-1]\n"
   ]
  },
  {
   "cell_type": "code",
   "execution_count": 6,
   "id": "7d0cae63-ea65-4be0-87a2-dd9c25ca832f",
   "metadata": {},
   "outputs": [
    {
     "data": {
      "text/plain": [
       "[5, 6, 12]"
      ]
     },
     "execution_count": 6,
     "metadata": {},
     "output_type": "execute_result"
    }
   ],
   "source": [
    ">>> a_list = [3, 5, 6, 12]\n",
    ">>> a_list[1:]"
   ]
  },
  {
   "cell_type": "code",
   "execution_count": 7,
   "id": "64567c52-ed18-41ee-8434-275936d452a3",
   "metadata": {},
   "outputs": [
    {
     "name": "stdout",
     "output_type": "stream",
     "text": [
      "3\n",
      "5\n",
      "6\n",
      "12\n"
     ]
    }
   ],
   "source": [
    ">>> a_list = [3, 5, 6, 12]\n",
    ">>> print(*a_list, sep='\\n')"
   ]
  },
  {
   "cell_type": "code",
   "execution_count": 8,
   "id": "87292ef0-2030-401f-9572-cd59468470f8",
   "metadata": {},
   "outputs": [
    {
     "data": {
      "text/plain": [
       "[12, 6, 5, 3]"
      ]
     },
     "execution_count": 8,
     "metadata": {},
     "output_type": "execute_result"
    }
   ],
   "source": [
    ">>> a_list = [3, 5, 6, 12]\n",
    ">>> a_list[::-1]"
   ]
  },
  {
   "cell_type": "code",
   "execution_count": 9,
   "id": "9c3edbbb-c2c2-4f51-886d-3d28d4cbf1b7",
   "metadata": {},
   "outputs": [
    {
     "data": {
      "text/plain": [
       "[9, 15, 18, 36]"
      ]
     },
     "execution_count": 9,
     "metadata": {},
     "output_type": "execute_result"
    }
   ],
   "source": [
    ">>> a_list = [3, 5, 6, 12]\n",
    ">>> [x * 3 for x in a_list]"
   ]
  },
  {
   "cell_type": "code",
   "execution_count": 10,
   "id": "cf9b28d1-4e65-436d-a168-515c7797ef14",
   "metadata": {},
   "outputs": [
    {
     "data": {
      "text/plain": [
       "[False, False, True, True]"
      ]
     },
     "execution_count": 10,
     "metadata": {},
     "output_type": "execute_result"
    }
   ],
   "source": [
    ">>> a_list = [3, 5, 6, 12]\n",
    ">>> [x % 2 == 0 for x in a_list]"
   ]
  },
  {
   "cell_type": "code",
   "execution_count": null,
   "id": "59a22d9a-bc2b-4a53-9119-c365c6469abb",
   "metadata": {},
   "outputs": [],
   "source": []
  }
 ],
 "metadata": {
  "kernelspec": {
   "display_name": "Python 3 (ipykernel)",
   "language": "python",
   "name": "python3"
  },
  "language_info": {
   "codemirror_mode": {
    "name": "ipython",
    "version": 3
   },
   "file_extension": ".py",
   "mimetype": "text/x-python",
   "name": "python",
   "nbconvert_exporter": "python",
   "pygments_lexer": "ipython3",
   "version": "3.11.0"
  }
 },
 "nbformat": 4,
 "nbformat_minor": 5
}
