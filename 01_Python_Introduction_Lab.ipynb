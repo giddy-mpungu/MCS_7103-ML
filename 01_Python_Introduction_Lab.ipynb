{
 "cells": [
  {
   "cell_type": "markdown",
   "id": "03c4ee7c-8b1c-4ff8-9638-6e45f4802bb5",
   "metadata": {},
   "source": [
    "### Introduction to Python\n",
    "#### Date: Sep 06,2023\n",
    "#### Submission must be made through Github\n",
    "You are required to complete all tasks correctly (or almost correctly) . You are free to use any material (lecture, Stackoverflow etc.) except full solutions but you should first try to figure them out on your own. We use an nbgrader for partially autograding the assignments. Please DO NOT delete or copy cells. You can add new cells but your solutions should go into the designated cells. "
   ]
  },
  {
   "cell_type": "markdown",
   "id": "79ceb440-0a4a-4cfe-92a8-d8d2d410e1e1",
   "metadata": {},
   "source": [
    "`range()` practice"
   ]
  },
  {
   "cell_type": "markdown",
   "id": "a56105d9-2e08-49de-bf42-4ed89f531dca",
   "metadata": {},
   "source": [
    "1 . Print the numbers between 60 and 69 inclusive."
   ]
  },
  {
   "cell_type": "code",
   "execution_count": 1,
   "id": "9672a3e9-7f15-4956-b6e4-669b03a88cc0",
   "metadata": {},
   "outputs": [
    {
     "name": "stdout",
     "output_type": "stream",
     "text": [
      "60\n",
      "61\n",
      "62\n",
      "63\n",
      "64\n",
      "65\n",
      "66\n",
      "67\n",
      "68\n",
      "69\n"
     ]
    }
   ],
   "source": [
    "for num in range(60, 70):\n",
    "    print(num)\n",
    "    \n",
    "#raise NotImplementedError()"
   ]
  },
  {
   "cell_type": "markdown",
   "id": "b74e0b6f-b2e2-4b93-a13f-73a3304171d4",
   "metadata": {},
   "source": [
    "2 . Read numbers until 0 and print their mean and standard deviation without using a list."
   ]
  },
  {
   "cell_type": "code",
   "execution_count": 2,
   "id": "57c6caad-8250-4346-ada9-418b1fb7e5c8",
   "metadata": {},
   "outputs": [
    {
     "name": "stdin",
     "output_type": "stream",
     "text": [
      "Enter a number (0 to stop):  87\n",
      "Enter a number (0 to stop):  23\n",
      "Enter a number (0 to stop):  9\n",
      "Enter a number (0 to stop):  0\n"
     ]
    },
    {
     "name": "stdout",
     "output_type": "stream",
     "text": [
      "Mean: 39.666666666666664\n",
      "Standard Deviation: 33.95421754199159\n"
     ]
    }
   ],
   "source": [
    "import math\n",
    "\n",
    "# Initialize variables to keep track of the sum, count, and sum of squared differences\n",
    "total = 0\n",
    "count = 0\n",
    "squared_diff_sum = 0\n",
    "\n",
    "while True:\n",
    "    try:\n",
    "        # Read a number from the user\n",
    "        num = float(input(\"Enter a number (0 to stop): \"))\n",
    "        \n",
    "        # Check if the number is 0 to exit the loop\n",
    "        if num == 0:\n",
    "            break\n",
    "        \n",
    "        # Update the total and count\n",
    "        total += num\n",
    "        count += 1\n",
    "        \n",
    "        # Update the sum of squared differences\n",
    "        squared_diff_sum += (num ** 2)\n",
    "    \n",
    "    except ValueError:\n",
    "        print(\"Invalid input. Please enter a valid number.\")\n",
    "\n",
    "# Calculate the mean\n",
    "mean = total / count if count > 0 else 0\n",
    "\n",
    "# Calculate the standard deviation\n",
    "if count > 1:\n",
    "    variance = (squared_diff_sum / count) - (mean ** 2)\n",
    "    std_deviation = math.sqrt(variance)\n",
    "else:\n",
    "    std_deviation = 0\n",
    "\n",
    "# Print the results\n",
    "print(f\"Mean: {mean}\")\n",
    "print(f\"Standard Deviation: {std_deviation}\")\n",
    "\n",
    "#raise NotImplementedError()"
   ]
  },
  {
   "cell_type": "markdown",
   "id": "43d383f5-1f59-47fd-99a5-938bf2c2e937",
   "metadata": {},
   "source": [
    "##### Lists\n",
    "3 . Print the odd numbers from this list. `l = [2, 3, -2, -7, 0, 2, 3]`"
   ]
  },
  {
   "cell_type": "code",
   "execution_count": 3,
   "id": "8423d0f0-c4a6-4ac0-9100-523c8e8b9dff",
   "metadata": {},
   "outputs": [
    {
     "name": "stdout",
     "output_type": "stream",
     "text": [
      "3\n",
      "-7\n",
      "3\n"
     ]
    }
   ],
   "source": [
    "l = [2, 3, -2, -7, 0, 2, 3]\n",
    "\n",
    "for num in l:\n",
    "    if num % 2 != 0:\n",
    "        print(num)\n",
    "        \n",
    "#raise NotImplementedError()"
   ]
  },
  {
   "cell_type": "markdown",
   "id": "ba8c7678-f149-46fd-a59c-1740c6b31662",
   "metadata": {},
   "source": [
    "##### Functions\n",
    "4 . Write a function that takes an integer parameter `(N)` and returns a list of the first `N` prime numbers starting from 2."
   ]
  },
  {
   "cell_type": "code",
   "execution_count": 5,
   "id": "c11489ad-16c8-458e-bb07-6269fdc0ac67",
   "metadata": {},
   "outputs": [],
   "source": [
    "# Function to check if a number is prime\n",
    "def is_prime(num):\n",
    "    if num <= 1:\n",
    "        return False\n",
    "    if num <= 3:\n",
    "        return True\n",
    "    if num % 2 == 0 or num % 3 == 0:\n",
    "        return False\n",
    "    i = 5\n",
    "    while i * i <= num:\n",
    "        if num % i == 0 or num % (i + 2) == 0:\n",
    "            return False\n",
    "        i += 6\n",
    "    return True\n",
    "\n",
    "# Function to get the first N prime numbers\n",
    "def get_n_primes(N):\n",
    "    if N <= 0:\n",
    "        return []\n",
    "    primes = []\n",
    "    num = 2\n",
    "    while len(primes) < N:\n",
    "        if is_prime(num):\n",
    "            primes.append(num)\n",
    "        num += 1\n",
    "    return primes\n",
    "    \n",
    "#raise NotImplementedError()"
   ]
  },
  {
   "cell_type": "code",
   "execution_count": 6,
   "id": "0349ebb9-189e-437b-a3f0-8ed95de70b67",
   "metadata": {},
   "outputs": [],
   "source": [
    "assert(get_n_primes(3) == [2, 3, 5])\n",
    "assert(get_n_primes(0) == [])"
   ]
  },
  {
   "cell_type": "markdown",
   "id": "faa7415c-d5d9-4248-95d2-588b6919c59c",
   "metadata": {},
   "source": [
    "5. Write a function that takes an integer parameter (N) and returns the Nth Fibonacci number.\n",
    "\n",
    " The Fibonacci series is defined as:\n",
    "\n",
    "$$\n",
    "F_n = F_{n-1} + F_{n-2} \\text{ for } n>1\\\\\n",
    "F_0 = 0\\\\\n",
    "F_1 = 1\n",
    "$$\n",
    "\n",
    "The first few elements of the Fibonacci series are 0, 1, 1, 2, 3, 5, 8, 13 etc.\n",
    "\n",
    "Raise a `ValueError` if $N<0$.\n"
   ]
  },
  {
   "cell_type": "code",
   "execution_count": 7,
   "id": "2cdba1a3-855c-483f-a5b0-eba31d98c186",
   "metadata": {},
   "outputs": [],
   "source": [
    "def get_nth_fibonacci(N):\n",
    "    if N < 0:\n",
    "        raise ValueError(\"N cannot be negative\")\n",
    "    elif N == 0:\n",
    "        return 0\n",
    "    elif N == 1:\n",
    "        return 1\n",
    "    else:\n",
    "        a, b = 0, 1\n",
    "        for _ in range(2, N + 1):\n",
    "            a, b = b, a + b\n",
    "        return b\n",
    "        \n",
    "#raise NotImplementedError()"
   ]
  },
  {
   "cell_type": "code",
   "execution_count": 8,
   "id": "d6b671a5-1c06-4f25-889e-599d5dedc9ae",
   "metadata": {},
   "outputs": [],
   "source": [
    "assert(get_nth_fibonacci(0) == 0)\n",
    "assert(get_nth_fibonacci(1) == 1)\n",
    "assert(get_nth_fibonacci(2) == 1)\n",
    "assert(get_nth_fibonacci(5) == 5)\n",
    "assert(get_nth_fibonacci(7) == 13)\n",
    "\n",
    "try:\n",
    "    get_nth_fibonacci(-2)\n",
    "except ValueError:\n",
    "    pass\n",
    "else:\n",
    "    AssertionError(\"TEST FAILS. Negative index should raise a ValueError.\")"
   ]
  },
  {
   "cell_type": "markdown",
   "id": "fc2960b4-e2b4-4e98-9284-9acb6e682182",
   "metadata": {},
   "source": [
    "6 . Create a function that take a list and a predicate (function with boolean return value) as parameters and returns a new list of those elements which the predicate return True. A predicate is a function that takes one element and return `True` or `False`, for example `is_even`, `is_prime`. If you implemented The following tests should run.\n"
   ]
  },
  {
   "cell_type": "code",
   "execution_count": 9,
   "id": "a5bbd70f-1ba6-4a46-8b14-bc8b82da1a18",
   "metadata": {},
   "outputs": [],
   "source": [
    "# Function to filter a list based on a predicate\n",
    "def filter_list(lst, predicate):\n",
    "    return [x for x in lst if predicate(x)]\n",
    "\n",
    "# Predicate function to check if a number is odd\n",
    "def is_odd(x):\n",
    "    return x % 2 != 0\n",
    "\n",
    "# Predicate function to check if a number is prime\n",
    "def is_prime(x):\n",
    "    if x <= 1:\n",
    "        return False\n",
    "    if x <= 3:\n",
    "        return True\n",
    "    if x % 2 == 0 or x % 3 == 0:\n",
    "        return False\n",
    "    i = 5\n",
    "    while i * i <= x:\n",
    "        if x % i == 0 or x % (i + 2) == 0:\n",
    "            return False\n",
    "        i += 6\n",
    "    return True\n",
    "    \n",
    "#raise NotImplementedError()"
   ]
  },
  {
   "cell_type": "code",
   "execution_count": 10,
   "id": "a2622238-54c7-4561-b6e6-52020207940f",
   "metadata": {},
   "outputs": [],
   "source": [
    "l1 = [1, 2, 3, 4, 19, 35, 11]\n",
    "l2 = [1, 4, 9, 16, 25]\n",
    "assert(filter_list(l1, is_odd) == [1, 3, 19, 35, 11])\n",
    "assert(filter_list(l1, is_prime) == [2, 3, 19, 11])\n",
    "assert(filter_list(l2, is_prime) == [])"
   ]
  },
  {
   "cell_type": "markdown",
   "id": "11b4614e-75b6-4735-bbb3-54899d386014",
   "metadata": {},
   "source": [
    "7.  Reduce is a function that applies a two argument function against an accumulator and each element in the sequence (from left to right) to reduce it to a single value. If no initial value is provided, the accumulator is initialized with the return value of the function run on the first two elements of the sequence.\n",
    "\n",
    "```\n",
    "reduce([1, 2, 3], product) ---> 6\n",
    "reduce([1, 2, 3], product, accumulator=10) ---> 60\n",
    "reduce([\"foo\", \"bar\"], string_addition) ---> \"foobar\"\n",
    "reduce([\"foo\", \"bar\"], string_addition, accumulator=\"hello\") ---> \"hellofoobar\"\n",
    "```"
   ]
  },
  {
   "cell_type": "code",
   "execution_count": 11,
   "id": "8101a46d-4eb0-46ee-951d-ad3a32619d84",
   "metadata": {},
   "outputs": [],
   "source": [
    "# Function to reduce a sequence using a two-argument function\n",
    "def reduce(sequence, func, accumulator=None):\n",
    "    if len(sequence) == 0:\n",
    "        if accumulator is not None:\n",
    "            return accumulator\n",
    "        else:\n",
    "            raise ValueError(\"Cannot reduce an empty sequence without an initial value.\")\n",
    "    elif len(sequence) == 1:\n",
    "        if accumulator is not None:\n",
    "            return func(accumulator, sequence[0])\n",
    "        else:\n",
    "            return sequence[0]\n",
    "    else:\n",
    "        if accumulator is not None:\n",
    "            result = accumulator\n",
    "        else:\n",
    "            result = func(sequence[0], sequence[1])\n",
    "            sequence = sequence[2:]\n",
    "        for element in sequence:\n",
    "            result = func(result, element)\n",
    "        return result\n",
    "\n",
    "# Function to add two numbers\n",
    "def add(x, y):\n",
    "    return x + y\n",
    "\n",
    "# Function to multiply two numbers\n",
    "def product(x, y):\n",
    "    return x * y\n",
    "\n",
    "# Function to concatenate two strings\n",
    "def string_addition(x, y):\n",
    "    return x + y\n",
    "\n",
    "# Function to calculate the length and add it to an integer\n",
    "def string_len_add(x, y):\n",
    "    return x + len(y)\n",
    "    \n",
    "#raise NotImplementedError()"
   ]
  },
  {
   "cell_type": "code",
   "execution_count": 12,
   "id": "06afdae8-d4b5-4a65-85ab-bd469456caed",
   "metadata": {},
   "outputs": [],
   "source": [
    "l1 = [1, 2, -1, 5]\n",
    "l2 = [\"foo\", \"bar\", \"hello\"]\n",
    "\n",
    "assert(reduce(l1, add) == 7)\n",
    "assert(reduce(l1, add, 10) == 17)\n",
    "assert(reduce(l2, string_len_add, 0) == 11)"
   ]
  },
  {
   "cell_type": "markdown",
   "id": "d5057830-6794-4d2d-ac06-02b44b852186",
   "metadata": {},
   "source": [
    "8. Use your reduce function for the following operations:\n",
    "\n",
    "##### a. count the number of odd elements in a list of integers,\n",
    "##### b. find the maximum of a list of integers,\n",
    "##### c. find the longest string in list of strings.\n",
    "\n",
    "``` Test your solutions. ```"
   ]
  },
  {
   "cell_type": "code",
   "execution_count": 16,
   "id": "dbb28576-5abb-4b90-8e9f-c4bfcaffc3b7",
   "metadata": {},
   "outputs": [],
   "source": [
    "from functools import reduce\n",
    "\n",
    "# Function to count odd elements in a list of integers\n",
    "def count_odd(acc, num):\n",
    "    return acc + (1 if num % 2 != 0 else 0)\n",
    "\n",
    "# Function to find the maximum of a list of integers\n",
    "def find_max(acc, num):\n",
    "    return max(acc, num)\n",
    "\n",
    "# Function to find the longest string in a list of strings\n",
    "def find_longest(acc, string):\n",
    "    return max(acc, string, key=len)\n",
    "    \n",
    "#raise NotImplementedError()"
   ]
  },
  {
   "cell_type": "code",
   "execution_count": 17,
   "id": "af799981-375d-4c42-8dc1-83908ed0e8a4",
   "metadata": {},
   "outputs": [
    {
     "name": "stdout",
     "output_type": "stream",
     "text": [
      "Count of odd elements: 5\n",
      "Maximum integer: 9\n",
      "Longest string: banana\n"
     ]
    }
   ],
   "source": [
    "# List of integers\n",
    "integers_list = [1, 2, 3, 4, 5, 6, 7, 8, 9]\n",
    "\n",
    "# List of strings\n",
    "strings_list = [\"apple\", \"banana\", \"cherry\", \"date\"]\n",
    "\n",
    "# Test a. Count the number of odd elements in a list of integers.\n",
    "count_odd_result = reduce(count_odd, integers_list, 0)\n",
    "print(\"Count of odd elements:\", count_odd_result)\n",
    "\n",
    "# Test b. Find the maximum of a list of integers.\n",
    "max_int_result = reduce(find_max, integers_list)\n",
    "print(\"Maximum integer:\", max_int_result)\n",
    "\n",
    "# Test c. Find the longest string in a list of strings.\n",
    "longest_string_result = reduce(find_longest, strings_list)\n",
    "print(\"Longest string:\", longest_string_result)\n",
    "\n",
    "#raise NotImplementedError()"
   ]
  },
  {
   "cell_type": "markdown",
   "id": "3c077854-065c-4c34-9def-93b57b32e9db",
   "metadata": {},
   "source": [
    "9. Create a function that takes a matrix of size NxM and returns the pairwise L2 distance of each row pair.\n",
    "\n",
    "For input $A^{N \\times M}$, the output should be $D^{N \\times N}$ where: $D_{i,j} = L_2 (A_i, A_j)$"
   ]
  },
  {
   "cell_type": "code",
   "execution_count": 18,
   "id": "b987aeec-458a-4ae7-b203-59334bdb725e",
   "metadata": {},
   "outputs": [],
   "source": [
    "import numpy as np\n",
    "\n",
    "def pairwise_row_distance(matrix):\n",
    "    # Convert the input list of lists into a NumPy array\n",
    "    A = np.array(matrix)\n",
    "    \n",
    "    # Calculate the pairwise L2 distances using broadcasting\n",
    "    num_rows = A.shape[0]\n",
    "    pairwise_distances = np.zeros((num_rows, num_rows), dtype=float)\n",
    "    \n",
    "    for i in range(num_rows):\n",
    "        for j in range(num_rows):\n",
    "            pairwise_distances[i, j] = np.linalg.norm(A[i] - A[j])\n",
    "    \n",
    "    return pairwise_distances\n",
    "\n",
    "# Function to check if the input is a matrix\n",
    "def is_matrix(matrix):\n",
    "    if isinstance(matrix, (list, np.ndarray)) and len(matrix) > 0 and all(isinstance(row, (list, np.ndarray)) for row in matrix):\n",
    "        return True\n",
    "    return False\n",
    "\n",
    "# Function to transpose a matrix\n",
    "def transpose(matrix):\n",
    "    return list(map(list, zip(*matrix)))\n",
    "    \n",
    "#raise NotImplementedError()"
   ]
  },
  {
   "cell_type": "code",
   "execution_count": null,
   "id": "a8a40461-7af8-41f7-96f2-729f69c62ab8",
   "metadata": {},
   "outputs": [],
   "source": [
    "D = pairwise_row_distance([[1, 0, 2], [0, 2, 1]])\n",
    "# should be a matrix\n",
    "assert is_matrix(D) == True\n",
    "assert len(D) == 2\n",
    "assert len(D[0]) == 2\n",
    "assert D[0][0] == 0\n",
    "assert abs(D[0][1] - 2.449489742783178) < 1e-3\n",
    "assert abs(D[1][0] - 2.449489742783178) < 1e-3\n",
    "assert D[1][1] == 0\n",
    "\n",
    "# should be symmetric\n",
    "assert transpose(D) == D"
   ]
  },
  {
   "cell_type": "markdown",
   "id": "211444ab-c1e5-47cf-86d1-ca72d009b7d1",
   "metadata": {},
   "source": [
    "10 . Object Oriented Programming\n",
    " Define a class named `A` with a 'constructor' that takes a single parameter and stores it in an attribute named `value`. Add a `print_value` method to the class. Instantiate the class and call the `print_value` method."
   ]
  },
  {
   "cell_type": "code",
   "execution_count": 20,
   "id": "86213a2e-3268-45aa-90cc-151c8ef4417f",
   "metadata": {},
   "outputs": [],
   "source": [
    "class A:\n",
    "    def __init__(self, value):\n",
    "        self.value = value\n",
    "\n",
    "    def print_value(self):\n",
    "        print(self.value)\n",
    "        \n",
    "#raise NotImplementedError()"
   ]
  },
  {
   "cell_type": "code",
   "execution_count": 21,
   "id": "70769d9e-d21e-4685-8436-6f4de2b1b798",
   "metadata": {},
   "outputs": [
    {
     "name": "stdout",
     "output_type": "stream",
     "text": [
      "abc\n"
     ]
    }
   ],
   "source": [
    "a = A(\"abc\")\n",
    "a.print_value()"
   ]
  },
  {
   "cell_type": "markdown",
   "id": "b2c7b287-c0ec-4fba-ba52-69aedfb3f9e5",
   "metadata": {},
   "source": [
    "11.  Define a class named `B`, whose `__init__` takes two parameters and stores one in a public attribute and the other in a private attribute named `this_is_public` and `__this_is_private` respectively. Check the class's ``__dict__``  attribute and find out the mangled name of the private attribute."
   ]
  },
  {
   "cell_type": "code",
   "execution_count": 22,
   "id": "887717c5-b8e6-4e4f-a389-167cc3ad2f90",
   "metadata": {},
   "outputs": [
    {
     "name": "stdout",
     "output_type": "stream",
     "text": [
      "Mangled name of the private attribute: None\n"
     ]
    }
   ],
   "source": [
    "class B:\n",
    "    def __init__(self, public_value, private_value):\n",
    "        self.this_is_public = public_value\n",
    "        self.__this_is_private = private_value\n",
    "        \n",
    "# Access the class's __dict__ attribute to find the mangled name of the private attribute\n",
    "class_dict = B.__dict__\n",
    "#print(class_dict)\n",
    "# The mangled name of the private attribute can be found in the class's dictionary\n",
    "mangled_name = None\n",
    "for key in class_dict:\n",
    "    if key.startswith(\"_B__\"):\n",
    "        mangled_name = key\n",
    "        break\n",
    "\n",
    "print(\"Mangled name of the private attribute:\", mangled_name)\n",
    "\n",
    "#raise NotImplementedError()"
   ]
  },
  {
   "cell_type": "code",
   "execution_count": 23,
   "id": "2890d450-5191-4dd0-91ef-4dc5f84b511c",
   "metadata": {},
   "outputs": [
    {
     "name": "stdout",
     "output_type": "stream",
     "text": [
      "Failed to access private attribute, this is good :)\n"
     ]
    }
   ],
   "source": [
    "b = B(1, 2)\n",
    "assert b.this_is_public == 1\n",
    "try:\n",
    "    b.__this_is_private\n",
    "    print(\"This should not happen.\")\n",
    "except AttributeError:\n",
    "    print(\"Failed to access private attribute, this is good :)\")"
   ]
  },
  {
   "cell_type": "markdown",
   "id": "4197c752-3a45-4e48-a3e3-2fd8a8172387",
   "metadata": {},
   "source": [
    "13 . Inheritance\n",
    "\n",
    "###### Guess the output without running the cell."
   ]
  },
  {
   "cell_type": "code",
   "execution_count": null,
   "id": "2a142442-f03b-438d-bca6-3a2c7c16ab7e",
   "metadata": {},
   "outputs": [],
   "source": [
    "class A(object): pass\n",
    "class B(A): pass\n",
    "class C(A): pass\n",
    "class D(B): pass\n",
    "\n",
    "a = A()\n",
    "b = B()\n",
    "c = C()\n",
    "d = D()\n",
    "\n",
    "print(isinstance(a, object)) == True\n",
    "print(isinstance(b, object)) == True\n",
    "print(isinstance(a, B)) == False\n",
    "print(isinstance(b, A)) == True\n",
    "print(isinstance(d, A)) == True"
   ]
  },
  {
   "cell_type": "code",
   "execution_count": null,
   "id": "c637dbb5-1350-4fbd-bf2c-94f4a60d6e5a",
   "metadata": {},
   "outputs": [],
   "source": [
    "print(issubclass(C, object)) == True\n",
    "print(issubclass(D, B)) == False\n",
    "print(issubclass(B, D)) == False\n",
    "print(issubclass(B, B)) == True"
   ]
  },
  {
   "cell_type": "markdown",
   "id": "2dc2067d-f15e-424a-b5f1-9782cb8c7ee5",
   "metadata": {},
   "source": [
    "#### Create a Cat, a Dog, a Fish and a Eagle class.\n",
    "\n",
    "The animals have the following attributes:\n",
    "\n",
    "1. cats, dogs and eagles can make a sound (this should be a make_sound function that prints the animals sound),\n",
    "2. all animals have an age and a number_of_legs attribute,\n",
    "3. cats and dogs have a fur_color attribute. They can be instantiated with a single color or a list or tuple of colors.\n",
    "\n",
    "Use inheritance and avoid repeating code. Use default values in the constructors."
   ]
  },
  {
   "cell_type": "code",
   "execution_count": 24,
   "id": "58b41d3c-bc66-4e6a-bcc9-345814da6dd5",
   "metadata": {},
   "outputs": [],
   "source": [
    "class Animal:\n",
    "    def __init__(self, name, age=0, number_of_legs=0):\n",
    "        self.name = name\n",
    "        self.age = age\n",
    "        self.number_of_legs = number_of_legs\n",
    "\n",
    "    def make_sound(self):\n",
    "        pass\n",
    "\n",
    "class Cat(Animal):\n",
    "    def __init__(self, name, age=0, fur=None):\n",
    "        super().__init__(name, age, number_of_legs=4)\n",
    "        self.fur = fur\n",
    "        self.make_sound()\n",
    "\n",
    "    def make_sound(self):\n",
    "        print(f\"{self.name} the cat says 'Meow'\")\n",
    "\n",
    "class Dog(Animal):\n",
    "    def __init__(self, name, age=0, fur=None):\n",
    "        super().__init__(name, age, number_of_legs=4)\n",
    "        self.fur = fur\n",
    "        self.make_sound()\n",
    "\n",
    "    def make_sound(self):\n",
    "        print(f\"{self.name} the dog says 'Woof'\")\n",
    "\n",
    "class Fish(Animal):\n",
    "    def __init__(self, name, age=0, fur=None):\n",
    "        super().__init__(name, age, number_of_legs=4)\n",
    "        self.make_sound()\n",
    "        \n",
    "    def make_sound(self):\n",
    "        print(f\"{self.name} the fish makes no sound\")\n",
    "\n",
    "class Eagle(Animal):\n",
    "    def __init__(self, name, age=0, fur=None):\n",
    "        super().__init__(name, age, number_of_legs=4)\n",
    "        self.make_sound()\n",
    "        \n",
    "    def make_sound(self):\n",
    "        print(f\"{self.name} the eagle makes a high-pitched sound\")\n",
    "        \n",
    "#raise NotImplementedError()"
   ]
  },
  {
   "cell_type": "code",
   "execution_count": 25,
   "id": "cf485478-8ccb-4ece-b411-25aeda370733",
   "metadata": {},
   "outputs": [
    {
     "name": "stdout",
     "output_type": "stream",
     "text": [
      "Fluffy the cat says 'Meow'\n",
      "Cherry the dog says 'Woof'\n",
      "King the fish makes no sound\n",
      "Bruce the eagle makes a high-pitched sound\n"
     ]
    }
   ],
   "source": [
    "try:\n",
    "    cat = Cat(\"Fluffy\", age=3, fur=\"white\")\n",
    "    dog = Dog(\"Cherry\", age=1, fur=(\"white\", \"brown\", \"black\"))\n",
    "    fish = Fish(\"King\")\n",
    "    eagle = Eagle(\"Bruce\", age=2)\n",
    "    animals = [cat, dog, fish, eagle]\n",
    "except Exception as e:\n",
    "    print(f'Could not initialize an animal: {e}')"
   ]
  },
  {
   "cell_type": "markdown",
   "id": "05cce854-4ec1-4f38-8c59-a6a9d024a147",
   "metadata": {},
   "source": [
    "#### Numpy basic exercises\n",
    "\n",
    "Use vectorization and avoid for loops in all exercises. Implement each exercise as a single function.\n",
    "\n",
    "##### Implement standardization for 2D arrays.\n",
    "\n",
    "Standardization is defined as:\n",
    "\n",
    "\\begin{equation*}\n",
    "X_{std} = \\frac{X - \\mu}{\\sigma},\n",
    "\\end{equation*}\n",
    "\n",
    "where $\\mu$ is the mean of each row and $\\rho$ is the standard deviation of each column."
   ]
  },
  {
   "cell_type": "code",
   "execution_count": 26,
   "id": "b0a6e8bb-88de-4598-a7d9-e667d944d41a",
   "metadata": {},
   "outputs": [
    {
     "data": {
      "text/plain": [
       "array([[-1.06066017,  1.06066017],\n",
       "       [-1.06066017,  1.06066017],\n",
       "       [-1.06066017,  1.06066017]])"
      ]
     },
     "execution_count": 26,
     "metadata": {},
     "output_type": "execute_result"
    }
   ],
   "source": [
    "import numpy as np\n",
    "\n",
    "def standardize(X):\n",
    "    # Calculate the mean of each row\n",
    "    row_means = np.mean(X, axis=1, keepdims=True)\n",
    "\n",
    "    # Calculate the standard deviation of each column\n",
    "    col_std = np.std(X, axis=0)\n",
    "\n",
    "    # Standardize the array using broadcasting\n",
    "    X_std = (X - row_means) / col_std\n",
    "\n",
    "    return X_std\n",
    "    raise NotImplementedError()\n",
    "\n",
    "X_std = standardize(np.array([[1, 2], [2, 3], [1, 2]]))\n",
    "X_std"
   ]
  },
  {
   "cell_type": "markdown",
   "id": "1b248a73-d899-475b-bac0-a17382dfefab",
   "metadata": {},
   "source": [
    "#### Implement normalization for 2D arrays.\n",
    "\n",
    "Normalization is defined as:\n",
    "\n",
    "\\begin{equation*}\n",
    "X_{norm} = \\frac{X - X_{min}}{X_{max} - X_{min}}\n",
    "\\end{equation*}"
   ]
  },
  {
   "cell_type": "code",
   "execution_count": 27,
   "id": "95841093-e7e7-4f28-94b5-a53a554cddfe",
   "metadata": {},
   "outputs": [
    {
     "name": "stdout",
     "output_type": "stream",
     "text": [
      "[[ 0  1  2]\n",
      " [ 3  4 -5]]\n"
     ]
    },
    {
     "data": {
      "text/plain": [
       "array([[0., 0., 1.],\n",
       "       [1., 1., 0.]])"
      ]
     },
     "execution_count": 27,
     "metadata": {},
     "output_type": "execute_result"
    }
   ],
   "source": [
    "import numpy as np\n",
    "\n",
    "def normalize(X):\n",
    "    # Calculate the minimum and maximum values along each column\n",
    "    X_min = np.min(X, axis=0)\n",
    "    X_max = np.max(X, axis=0)\n",
    "\n",
    "    # Normalize the array using broadcasting\n",
    "    X_norm = (X - X_min) / (X_max - X_min)\n",
    "\n",
    "    return X_norm\n",
    "    raise NotImplementedError()\n",
    "\n",
    "X = np.arange(6).reshape(2, 3)\n",
    "X[1, 2] = -5\n",
    "print(X)\n",
    "normalize(X)"
   ]
  },
  {
   "cell_type": "code",
   "execution_count": 28,
   "id": "75fe2509-9e4a-45aa-8f41-e2dd6290d81a",
   "metadata": {},
   "outputs": [],
   "source": [
    "answer = np.array(\n",
    "    [[0., 0., 1.],\n",
    "     [1., 1., 0.]]\n",
    ")\n",
    "X_norm = normalize(X)\n",
    "assert np.allclose(X_norm, answer)"
   ]
  }
 ],
 "metadata": {
  "kernelspec": {
   "display_name": "Python 3 (ipykernel)",
   "language": "python",
   "name": "python3"
  },
  "language_info": {
   "codemirror_mode": {
    "name": "ipython",
    "version": 3
   },
   "file_extension": ".py",
   "mimetype": "text/x-python",
   "name": "python",
   "nbconvert_exporter": "python",
   "pygments_lexer": "ipython3",
   "version": "3.11.0"
  }
 },
 "nbformat": 4,
 "nbformat_minor": 5
}
